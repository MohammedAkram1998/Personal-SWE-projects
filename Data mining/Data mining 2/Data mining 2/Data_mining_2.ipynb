{
 "cells": [
  {
   "cell_type": "code",
   "execution_count": 1,
   "id": "e73e87f5",
   "metadata": {},
   "outputs": [],
   "source": [
    "import pandas as pd\n",
    "\n",
    "\n",
    "file_path = \"C:\\\\Users\\\\krmch\\\\OneDrive\\\\Desktop\\\\Online_Retail.xlsx\"\n",
    "data = pd.read_excel(file_path)\n",
    "\n"
   ]
  },
  {
   "cell_type": "markdown",
   "id": "9206d04d",
   "metadata": {},
   "source": [
    "QUESTION 1 TRANSACTION DATA CLEANING "
   ]
  },
  {
   "cell_type": "code",
   "execution_count": 2,
   "id": "c7917509",
   "metadata": {},
   "outputs": [],
   "source": [
    "data = data.dropna(subset=['Description', 'CustomerID'])"
   ]
  },
  {
   "cell_type": "code",
   "execution_count": 3,
   "id": "a05d4c5a",
   "metadata": {},
   "outputs": [],
   "source": [
    "data = data[~data['InvoiceNo'].astype(str).str.startswith('C')]"
   ]
  },
  {
   "cell_type": "code",
   "execution_count": 4,
   "id": "de04f698",
   "metadata": {},
   "outputs": [],
   "source": [
    "data = data[data['Description'] != 'POSTAGE']"
   ]
  },
  {
   "cell_type": "code",
   "execution_count": 6,
   "id": "d7acb126",
   "metadata": {},
   "outputs": [],
   "source": [
    "\n",
    "    \n",
    "    \n",
    "data['Date'] = data['InvoiceDate'].dt.date\n",
    "data['CustomerID'] = data['CustomerID'].astype(int)\n",
    "data['CombinedKey'] = data['Date'].astype(str) + '-' + data['CustomerID'].astype(str)\n",
    "data = data.groupby(['CombinedKey', 'Description']).agg({'Quantity':'sum', 'Country':'first'}).reset_index()"
   ]
  },
  {
   "cell_type": "code",
   "execution_count": 7,
   "id": "06cf06bc",
   "metadata": {},
   "outputs": [],
   "source": [
    "items_counts = data['Description'].value_counts()\n",
    "items_to_keep = items_counts[items_counts >= 1000].index\n",
    "data = data[data['Description'].isin(items_to_keep)]\n"
   ]
  },
  {
   "cell_type": "code",
   "execution_count": 8,
   "id": "1eaa7460",
   "metadata": {},
   "outputs": [
    {
     "name": "stdout",
     "output_type": "stream",
     "text": [
      "Number of records after cleaning: 11224\n"
     ]
    }
   ],
   "source": [
    "data = data[data['Country'] == 'United Kingdom']\n",
    "number_of_records = len(data)\n",
    "print(f\"Number of records after cleaning: {number_of_records}\")"
   ]
  },
  {
   "cell_type": "code",
   "execution_count": 9,
   "id": "63da0e4e",
   "metadata": {},
   "outputs": [],
   "source": [
    "data['Quantity'] = (data['Quantity'] > 0).astype(int) \n",
    "transactions = data.pivot_table(index='CombinedKey', columns='Description', values='Quantity', fill_value=0)"
   ]
  },
  {
   "cell_type": "code",
   "execution_count": 10,
   "id": "af01ff52",
   "metadata": {},
   "outputs": [
    {
     "name": "stdout",
     "output_type": "stream",
     "text": [
      "Description       ASSORTED COLOUR BIRD ORNAMENT  JUMBO BAG RED RETROSPOT  \\\n",
      "CombinedKey                                                                \n",
      "2010-12-01-12838                              0                        0   \n",
      "2010-12-01-13047                              1                        0   \n",
      "2010-12-01-13065                              0                        0   \n",
      "2010-12-01-13408                              0                        0   \n",
      "2010-12-01-13468                              0                        0   \n",
      "\n",
      "Description       LUNCH BAG  BLACK SKULL.  LUNCH BAG RED RETROSPOT  \\\n",
      "CombinedKey                                                          \n",
      "2010-12-01-12838                        0                        0   \n",
      "2010-12-01-13047                        0                        0   \n",
      "2010-12-01-13065                        0                        0   \n",
      "2010-12-01-13408                        0                        0   \n",
      "2010-12-01-13468                        0                        0   \n",
      "\n",
      "Description       PACK OF 72 RETROSPOT CAKE CASES  PARTY BUNTING  \\\n",
      "CombinedKey                                                        \n",
      "2010-12-01-12838                                1              0   \n",
      "2010-12-01-13047                                0              0   \n",
      "2010-12-01-13065                                0              0   \n",
      "2010-12-01-13408                                0              0   \n",
      "2010-12-01-13468                                0              0   \n",
      "\n",
      "Description       REGENCY CAKESTAND 3 TIER  SET OF 3 CAKE TINS PANTRY DESIGN   \\\n",
      "CombinedKey                                                                     \n",
      "2010-12-01-12838                         0                                  0   \n",
      "2010-12-01-13047                         0                                  0   \n",
      "2010-12-01-13065                         0                                  0   \n",
      "2010-12-01-13408                         0                                  0   \n",
      "2010-12-01-13468                         1                                  0   \n",
      "\n",
      "Description       WHITE HANGING HEART T-LIGHT HOLDER  \n",
      "CombinedKey                                           \n",
      "2010-12-01-12838                                   0  \n",
      "2010-12-01-13047                                   0  \n",
      "2010-12-01-13065                                   1  \n",
      "2010-12-01-13408                                   1  \n",
      "2010-12-01-13468                                   0  \n"
     ]
    }
   ],
   "source": [
    "print(transactions.head())\n"
   ]
  },
  {
   "cell_type": "markdown",
   "id": "0c270820",
   "metadata": {},
   "source": [
    "Q2: Frequent Items and Association Rules"
   ]
  },
  {
   "cell_type": "code",
   "execution_count": 11,
   "id": "4848151f",
   "metadata": {},
   "outputs": [],
   "source": [
    "from mlxtend.frequent_patterns import apriori, fpgrowth, association_rules\n",
    "import matplotlib.pyplot as plt\n",
    "import seaborn as sns\n",
    "\n"
   ]
  },
  {
   "cell_type": "code",
   "execution_count": 12,
   "id": "71c8e413",
   "metadata": {
    "scrolled": true
   },
   "outputs": [
    {
     "name": "stdout",
     "output_type": "stream",
     "text": [
      "Frequent itemsets using Apriori:\n",
      "     support                                           itemsets\n",
      "0   0.185286                    (ASSORTED COLOUR BIRD ORNAMENT)\n",
      "1   0.205000                          (JUMBO BAG RED RETROSPOT)\n",
      "2   0.141429                          (LUNCH BAG  BLACK SKULL.)\n",
      "3   0.159714                          (LUNCH BAG RED RETROSPOT)\n",
      "4   0.119857                  (PACK OF 72 RETROSPOT CAKE CASES)\n",
      "5   0.183571                                    (PARTY BUNTING)\n",
      "6   0.200429                         (REGENCY CAKESTAND 3 TIER)\n",
      "7   0.143000                (SET OF 3 CAKE TINS PANTRY DESIGN )\n",
      "8   0.265143               (WHITE HANGING HEART T-LIGHT HOLDER)\n",
      "9   0.026857     (PARTY BUNTING, ASSORTED COLOUR BIRD ORNAMENT)\n",
      "10  0.029714  (REGENCY CAKESTAND 3 TIER, ASSORTED COLOUR BIR...\n",
      "11  0.037429  (WHITE HANGING HEART T-LIGHT HOLDER, ASSORTED ...\n",
      "12  0.037857  (JUMBO BAG RED RETROSPOT, LUNCH BAG  BLACK SKU...\n",
      "13  0.055000  (JUMBO BAG RED RETROSPOT, LUNCH BAG RED RETROS...\n",
      "14  0.022143  (JUMBO BAG RED RETROSPOT, PACK OF 72 RETROSPOT...\n",
      "15  0.025000           (JUMBO BAG RED RETROSPOT, PARTY BUNTING)\n",
      "16  0.034857  (JUMBO BAG RED RETROSPOT, WHITE HANGING HEART ...\n",
      "17  0.069286  (LUNCH BAG RED RETROSPOT, LUNCH BAG  BLACK SKU...\n",
      "18  0.026000  (WHITE HANGING HEART T-LIGHT HOLDER, LUNCH BAG...\n",
      "19  0.023714  (PACK OF 72 RETROSPOT CAKE CASES, LUNCH BAG RE...\n",
      "20  0.022429           (PARTY BUNTING, LUNCH BAG RED RETROSPOT)\n",
      "21  0.032000  (WHITE HANGING HEART T-LIGHT HOLDER, LUNCH BAG...\n",
      "22  0.029000          (REGENCY CAKESTAND 3 TIER, PARTY BUNTING)\n",
      "23  0.023000  (SET OF 3 CAKE TINS PANTRY DESIGN , PARTY BUNT...\n",
      "24  0.039000  (WHITE HANGING HEART T-LIGHT HOLDER, PARTY BUN...\n",
      "25  0.024571  (SET OF 3 CAKE TINS PANTRY DESIGN , REGENCY CA...\n",
      "26  0.031857  (WHITE HANGING HEART T-LIGHT HOLDER, REGENCY C...\n",
      "27  0.027143  (WHITE HANGING HEART T-LIGHT HOLDER, SET OF 3 ...\n",
      "28  0.024714  (JUMBO BAG RED RETROSPOT, LUNCH BAG RED RETROS...\n"
     ]
    },
    {
     "name": "stderr",
     "output_type": "stream",
     "text": [
      "C:\\Users\\krmch\\AppData\\Roaming\\Python\\Python310\\site-packages\\mlxtend\\frequent_patterns\\fpcommon.py:110: DeprecationWarning: DataFrames with non-bool types result in worse computationalperformance and their support might be discontinued in the future.Please use a DataFrame with bool type\n",
      "  warnings.warn(\n"
     ]
    }
   ],
   "source": [
    "apriori_itemsets = apriori(transactions, min_support=0.02, use_colnames=True)\n",
    "print(\"Frequent itemsets using Apriori:\")\n",
    "print(apriori_itemsets)"
   ]
  },
  {
   "cell_type": "code",
   "execution_count": 13,
   "id": "160c89eb",
   "metadata": {},
   "outputs": [
    {
     "name": "stdout",
     "output_type": "stream",
     "text": [
      "\n",
      "Frequent itemsets using FP-Growth:\n",
      "     support                                           itemsets\n",
      "0   0.119857                  (PACK OF 72 RETROSPOT CAKE CASES)\n",
      "1   0.185286                    (ASSORTED COLOUR BIRD ORNAMENT)\n",
      "2   0.265143               (WHITE HANGING HEART T-LIGHT HOLDER)\n",
      "3   0.200429                         (REGENCY CAKESTAND 3 TIER)\n",
      "4   0.205000                          (JUMBO BAG RED RETROSPOT)\n",
      "5   0.159714                          (LUNCH BAG RED RETROSPOT)\n",
      "6   0.141429                          (LUNCH BAG  BLACK SKULL.)\n",
      "7   0.183571                                    (PARTY BUNTING)\n",
      "8   0.143000                (SET OF 3 CAKE TINS PANTRY DESIGN )\n",
      "9   0.023714  (PACK OF 72 RETROSPOT CAKE CASES, LUNCH BAG RE...\n",
      "10  0.022143  (JUMBO BAG RED RETROSPOT, PACK OF 72 RETROSPOT...\n",
      "11  0.037429  (WHITE HANGING HEART T-LIGHT HOLDER, ASSORTED ...\n",
      "12  0.029714  (REGENCY CAKESTAND 3 TIER, ASSORTED COLOUR BIR...\n",
      "13  0.031857  (WHITE HANGING HEART T-LIGHT HOLDER, REGENCY C...\n",
      "14  0.034857  (JUMBO BAG RED RETROSPOT, WHITE HANGING HEART ...\n",
      "15  0.055000  (JUMBO BAG RED RETROSPOT, LUNCH BAG RED RETROS...\n",
      "16  0.032000  (WHITE HANGING HEART T-LIGHT HOLDER, LUNCH BAG...\n",
      "17  0.022429           (PARTY BUNTING, LUNCH BAG RED RETROSPOT)\n",
      "18  0.069286  (LUNCH BAG RED RETROSPOT, LUNCH BAG  BLACK SKU...\n",
      "19  0.037857  (JUMBO BAG RED RETROSPOT, LUNCH BAG  BLACK SKU...\n",
      "20  0.026000  (WHITE HANGING HEART T-LIGHT HOLDER, LUNCH BAG...\n",
      "21  0.024714  (JUMBO BAG RED RETROSPOT, LUNCH BAG RED RETROS...\n",
      "22  0.029000          (REGENCY CAKESTAND 3 TIER, PARTY BUNTING)\n",
      "23  0.026857     (PARTY BUNTING, ASSORTED COLOUR BIRD ORNAMENT)\n",
      "24  0.039000  (WHITE HANGING HEART T-LIGHT HOLDER, PARTY BUN...\n",
      "25  0.025000           (JUMBO BAG RED RETROSPOT, PARTY BUNTING)\n",
      "26  0.027143  (WHITE HANGING HEART T-LIGHT HOLDER, SET OF 3 ...\n",
      "27  0.024571  (SET OF 3 CAKE TINS PANTRY DESIGN , REGENCY CA...\n",
      "28  0.023000  (SET OF 3 CAKE TINS PANTRY DESIGN , PARTY BUNT...\n"
     ]
    },
    {
     "name": "stderr",
     "output_type": "stream",
     "text": [
      "C:\\Users\\krmch\\AppData\\Roaming\\Python\\Python310\\site-packages\\mlxtend\\frequent_patterns\\fpcommon.py:110: DeprecationWarning: DataFrames with non-bool types result in worse computationalperformance and their support might be discontinued in the future.Please use a DataFrame with bool type\n",
      "  warnings.warn(\n"
     ]
    }
   ],
   "source": [
    "fpgrowth_itemsets = fpgrowth(transactions, min_support=0.02, use_colnames=True)\n",
    "print(\"\\nFrequent itemsets using FP-Growth:\")\n",
    "print(fpgrowth_itemsets)\n",
    "\n"
   ]
  },
  {
   "cell_type": "markdown",
   "id": "3ed364a9",
   "metadata": {},
   "source": [
    "My comparison of the outputs showed that the order of the itemsets is different between the two algorithms. This variation in order arises from their distinct operational mechanics. The FP-Growth algorithm doesn't prioritize itemsets by size during its generation process. Instead, it constructs an FP-tree, a compact structure that encapsulates the dataset, and then extracts frequent itemsets directly from this tree. As a result, the FP-Growth approach doesn't inherently sort the itemsets by size or frequency, leading to an unordered list in the output.\n",
    "\n",
    "On the other hand, the Apriori algorithm operates through a breadth-first search pattern, generating smaller itemsets first and then extending them into larger ones, pruning as it goes. This iterative process naturally orders the itemsets by size, starting from the smallest.\n",
    "\n",
    "When considering the performance aspect, I found that FP-Growth, with its streamlined database scans and direct extraction of itemsets from the FP-tree, is generally faster and more memory-efficient compared to Apriori. This is particularly beneficial when dealing with large datasets. Apriori's multiple database scans and extensive candidate generation make it slower, which becomes more pronounced as the size of the dataset grows.\n",
    "\n",
    "Despite the differences, in the context of my project, both algorithms have proven to be equally effective in terms of the end result—they have provided me with a comprehensive list of itemsets that pass the minimum support threshold. The choice between these two would then be driven by the dataset size, memory, and processing power considerations, with FP-Growth being the more scalable option.\n",
    "\n",
    "For my purposes, since the dataset did not pose significant computational challenges, either algorithm would have been suitable. However, for future scalability and performance optimization, especially as the dataset grows, I would lean towards employing the FP-Growth algorithm for frequent itemset mining tasks."
   ]
  },
  {
   "cell_type": "code",
   "execution_count": 25,
   "id": "e21ee949",
   "metadata": {},
   "outputs": [
    {
     "name": "stdout",
     "output_type": "stream",
     "text": [
      "\n",
      "Association Rules:\n",
      "                                         antecedents  \\\n",
      "0  (JUMBO BAG RED RETROSPOT, LUNCH BAG  BLACK SKU...   \n",
      "\n",
      "                 consequents  antecedent support  consequent support  \\\n",
      "0  (LUNCH BAG RED RETROSPOT)            0.037857            0.159714   \n",
      "\n",
      "    support  confidence      lift  leverage  conviction  zhangs_metric  \n",
      "0  0.024714     0.65283  4.087488  0.018668    2.420388       0.785072  \n"
     ]
    }
   ],
   "source": [
    "rules = association_rules(apriori_itemsets, metric=\"confidence\", min_threshold=0.5)\n",
    "print(\"\\nAssociation Rules:\")\n",
    "print(rules)\n",
    "\n"
   ]
  },
  {
   "cell_type": "code",
   "execution_count": 26,
   "id": "4ca2a84a",
   "metadata": {},
   "outputs": [
    {
     "data": {
      "image/png": "[encoded data removed]",
      "text/plain": [
       "<Figure size 640x480 with 1 Axes>"
      ]
     },
     "metadata": {},
     "output_type": "display_data"
    }
   ],
   "source": [
    "plt.scatter(rules['support'], rules['confidence'], alpha=0.5)\n",
    "plt.title('Support vs Confidence')\n",
    "plt.xlabel('Support')\n",
    "plt.ylabel('Confidence')\n",
    "plt.show()\n"
   ]
  },
  {
   "cell_type": "code",
   "execution_count": 27,
   "id": "ce8e43c3",
   "metadata": {},
   "outputs": [
    {
     "name": "stdout",
     "output_type": "stream",
     "text": [
      "Rules with support > 0.028 and confidence > 0.5:\n",
      "Empty DataFrame\n",
      "Columns: [antecedents, consequents, antecedent support, consequent support, support, confidence, lift, leverage, conviction, zhangs_metric]\n",
      "Index: []\n"
     ]
    }
   ],
   "source": [
    "\n",
    "filtered_rules = rules[(rules['support'] > 0.028) & (rules['confidence'] > 0.5)]\n",
    "print(\"Rules with support > 0.028 and confidence > 0.5:\")\n",
    "print(filtered_rules)"
   ]
  },
  {
   "cell_type": "code",
   "execution_count": 28,
   "id": "7aee79a8",
   "metadata": {},
   "outputs": [],
   "source": [
    "important_rules = rules[(rules['support'] > 0.028) & (rules['confidence'] > 0.5)]"
   ]
  },
  {
   "cell_type": "code",
   "execution_count": 29,
   "id": "6a8d50e8",
   "metadata": {},
   "outputs": [
    {
     "ename": "ValueError",
     "evalue": "zero-size array to reduction operation fmin which has no identity",
     "output_type": "error",
     "traceback": [
      "\u001b[1;31m---------------------------------------------\u001b[0m",
      "\u001b[1;31mValueError\u001b[0m  Traceback (most recent call last)",
      "Cell \u001b[1;32mIn[29], line 3\u001b[0m\n\u001b[0;32m      1\u001b[0m pivot \u001b[38;5;241m=\u001b[39m important_rules\u001b[38;5;241m.\u001b[39mpivot(index\u001b[38;5;241m=\u001b[39m\u001b[38;5;124m'\u001b[39m\u001b[38;5;124mconsequents\u001b[39m\u001b[38;5;124m'\u001b[39m, columns\u001b[38;5;241m=\u001b[39m\u001b[38;5;124m'\u001b[39m\u001b[38;5;124mantecedents\u001b[39m\u001b[38;5;124m'\u001b[39m, values\u001b[38;5;241m=\u001b[39m\u001b[38;5;124m'\u001b[39m\u001b[38;5;124mlift\u001b[39m\u001b[38;5;124m'\u001b[39m)\n\u001b[0;32m      2\u001b[0m plt\u001b[38;5;241m.\u001b[39mfigure(figsize\u001b[38;5;241m=\u001b[39m(\u001b[38;5;241m10\u001b[39m,\u001b[38;5;241m10\u001b[39m))\n\u001b[1;32m----> 3\u001b[0m \u001b[43msns\u001b[49m\u001b[38;5;241;43m.\u001b[39;49m\u001b[43mheatmap\u001b[49m\u001b[43m(\u001b[49m\u001b[43mpivot\u001b[49m\u001b[43m,\u001b[49m\u001b[43m \u001b[49m\u001b[43mannot\u001b[49m\u001b[38;5;241;43m=\u001b[39;49m\u001b[38;5;28;43;01mTrue\u001b[39;49;00m\u001b[43m,\u001b[49m\u001b[43m \u001b[49m\u001b[43mcmap\u001b[49m\u001b[38;5;241;43m=\u001b[39;49m\u001b[38;5;124;43m\"\u001b[39;49m\u001b[38;5;124;43mYlGnBu\u001b[39;49m\u001b[38;5;124;43m\"\u001b[39;49m\u001b[43m)\u001b[49m\n\u001b[0;32m      4\u001b[0m plt\u001b[38;5;241m.\u001b[39mtitle(\u001b[38;5;124m'\u001b[39m\u001b[38;5;124mHeatmap of Important Association Rules\u001b[39m\u001b[38;5;124m'\u001b[39m)\n\u001b[0;32m      5\u001b[0m plt\u001b[38;5;241m.\u001b[39mshow()\n",
      "File \u001b[1;32mC:\\ProgramData\\anaconda3\\lib\\site-packages\\seaborn\\matrix.py:446\u001b[0m, in \u001b[0;36mheatmap\u001b[1;34m(data, vmin, vmax, cmap, center, robust, annot, fmt, annot_kws, linewidths, linecolor, cbar, cbar_kws, cbar_ax, square, xticklabels, yticklabels, mask, ax, **kwargs)\u001b[0m\n\u001b[0;32m    365\u001b[0m \u001b[38;5;124;03m\"\"\"Plot rectangular data as a color-encoded matrix.\u001b[39;00m\n\u001b[0;32m    366\u001b[0m \n\u001b[0;32m    367\u001b[0m \u001b[38;5;124;03mThis is an Axes-level function and will draw the heatmap into the\u001b[39;00m\n\u001b[1;32m   (...)\u001b[0m\n\u001b[0;32m    443\u001b[0m \n\u001b[0;32m    444\u001b[0m \u001b[38;5;124;03m\"\"\"\u001b[39;00m\n\u001b[0;32m    445\u001b[0m \u001b[38;5;66;03m# Initialize the plotter object\u001b[39;00m\n\u001b[1;32m--> 446\u001b[0m plotter \u001b[38;5;241m=\u001b[39m \u001b[43m_HeatMapper\u001b[49m\u001b[43m(\u001b[49m\u001b[43mdata\u001b[49m\u001b[43m,\u001b[49m\u001b[43m \u001b[49m\u001b[43mvmin\u001b[49m\u001b[43m,\u001b[49m\u001b[43m \u001b[49m\u001b[43mvmax\u001b[49m\u001b[43m,\u001b[49m\u001b[43m \u001b[49m\u001b[43mcmap\u001b[49m\u001b[43m,\u001b[49m\u001b[43m \u001b[49m\u001b[43mcenter\u001b[49m\u001b[43m,\u001b[49m\u001b[43m \u001b[49m\u001b[43mrobust\u001b[49m\u001b[43m,\u001b[49m\u001b[43m \u001b[49m\u001b[43mannot\u001b[49m\u001b[43m,\u001b[49m\u001b[43m \u001b[49m\u001b[43mfmt\u001b[49m\u001b[43m,\u001b[49m\n\u001b[0;32m    447\u001b[0m \u001b[43m                      \u001b[49m\u001b[43mannot_kws\u001b[49m\u001b[43m,\u001b[49m\u001b[43m \u001b[49m\u001b[43mcbar\u001b[49m\u001b[43m,\u001b[49m\u001b[43m \u001b[49m\u001b[43mcbar_kws\u001b[49m\u001b[43m,\u001b[49m\u001b[43m \u001b[49m\u001b[43mxticklabels\u001b[49m\u001b[43m,\u001b[49m\n\u001b[0;32m    448\u001b[0m \u001b[43m                      \u001b[49m\u001b[43myticklabels\u001b[49m\u001b[43m,\u001b[49m\u001b[43m \u001b[49m\u001b[43mmask\u001b[49m\u001b[43m)\u001b[49m\n\u001b[0;32m    450\u001b[0m \u001b[38;5;66;03m# Add the pcolormesh kwargs here\u001b[39;00m\n\u001b[0;32m    451\u001b[0m kwargs[\u001b[38;5;124m\"\u001b[39m\u001b[38;5;124mlinewidths\u001b[39m\u001b[38;5;124m\"\u001b[39m] \u001b[38;5;241m=\u001b[39m linewidths\n",
      "File \u001b[1;32mC:\\ProgramData\\anaconda3\\lib\\site-packages\\seaborn\\matrix.py:163\u001b[0m, in \u001b[0;36m_HeatMapper.__init__\u001b[1;34m(self, data, vmin, vmax, cmap, center, robust, annot, fmt, annot_kws, cbar, cbar_kws, xticklabels, yticklabels, mask)\u001b[0m\n\u001b[0;32m    160\u001b[0m \u001b[38;5;28mself\u001b[39m\u001b[38;5;241m.\u001b[39mylabel \u001b[38;5;241m=\u001b[39m ylabel \u001b[38;5;28;01mif\u001b[39;00m ylabel \u001b[38;5;129;01mis\u001b[39;00m \u001b[38;5;129;01mnot\u001b[39;00m \u001b[38;5;28;01mNone\u001b[39;00m \u001b[38;5;28;01melse\u001b[39;00m \u001b[38;5;124m\"\u001b[39m\u001b[38;5;124m\"\u001b[39m\n\u001b[0;32m    162\u001b[0m \u001b[38;5;66;03m# Determine good default values for the colormapping\u001b[39;00m\n\u001b[1;32m--> 163\u001b[0m \u001b[38;5;28;43mself\u001b[39;49m\u001b[38;5;241;43m.\u001b[39;49m\u001b[43m_determine_cmap_params\u001b[49m\u001b[43m(\u001b[49m\u001b[43mplot_data\u001b[49m\u001b[43m,\u001b[49m\u001b[43m \u001b[49m\u001b[43mvmin\u001b[49m\u001b[43m,\u001b[49m\u001b[43m \u001b[49m\u001b[43mvmax\u001b[49m\u001b[43m,\u001b[49m\n\u001b[0;32m    164\u001b[0m \u001b[43m                            \u001b[49m\u001b[43mcmap\u001b[49m\u001b[43m,\u001b[49m\u001b[43m \u001b[49m\u001b[43mcenter\u001b[49m\u001b[43m,\u001b[49m\u001b[43m \u001b[49m\u001b[43mrobust\u001b[49m\u001b[43m)\u001b[49m\n\u001b[0;32m    166\u001b[0m \u001b[38;5;66;03m# Sort out the annotations\u001b[39;00m\n\u001b[0;32m    167\u001b[0m \u001b[38;5;28;01mif\u001b[39;00m annot \u001b[38;5;129;01mis\u001b[39;00m \u001b[38;5;28;01mNone\u001b[39;00m \u001b[38;5;129;01mor\u001b[39;00m annot \u001b[38;5;129;01mis\u001b[39;00m \u001b[38;5;28;01mFalse\u001b[39;00m:\n",
      "File \u001b[1;32mC:\\ProgramData\\anaconda3\\lib\\site-packages\\seaborn\\matrix.py:202\u001b[0m, in \u001b[0;36m_HeatMapper._determine_cmap_params\u001b[1;34m(self, plot_data, vmin, vmax, cmap, center, robust)\u001b[0m\n\u001b[0;32m    200\u001b[0m         vmin \u001b[38;5;241m=\u001b[39m np\u001b[38;5;241m.\u001b[39mnanpercentile(calc_data, \u001b[38;5;241m2\u001b[39m)\n\u001b[0;32m    201\u001b[0m     \u001b[38;5;28;01melse\u001b[39;00m:\n\u001b[1;32m--> 202\u001b[0m         vmin \u001b[38;5;241m=\u001b[39m \u001b[43mnp\u001b[49m\u001b[38;5;241;43m.\u001b[39;49m\u001b[43mnanmin\u001b[49m\u001b[43m(\u001b[49m\u001b[43mcalc_data\u001b[49m\u001b[43m)\u001b[49m\n\u001b[0;32m    203\u001b[0m \u001b[38;5;28;01mif\u001b[39;00m vmax \u001b[38;5;129;01mis\u001b[39;00m \u001b[38;5;28;01mNone\u001b[39;00m:\n\u001b[0;32m    204\u001b[0m     \u001b[38;5;28;01mif\u001b[39;00m robust:\n",
      "File \u001b[1;32m<__array_function__ internals>:180\u001b[0m, in \u001b[0;36mnanmin\u001b[1;34m(*args, **kwargs)\u001b[0m\n",
      "File \u001b[1;32mC:\\ProgramData\\anaconda3\\lib\\site-packages\\numpy\\lib\\nanfunctions.py:343\u001b[0m, in \u001b[0;36mnanmin\u001b[1;34m(a, axis, out, keepdims, initial, where)\u001b[0m\n\u001b[0;32m    338\u001b[0m     kwargs[\u001b[38;5;124m'\u001b[39m\u001b[38;5;124mwhere\u001b[39m\u001b[38;5;124m'\u001b[39m] \u001b[38;5;241m=\u001b[39m where\n\u001b[0;32m    340\u001b[0m \u001b[38;5;28;01mif\u001b[39;00m \u001b[38;5;28mtype\u001b[39m(a) \u001b[38;5;129;01mis\u001b[39;00m np\u001b[38;5;241m.\u001b[39mndarray \u001b[38;5;129;01mand\u001b[39;00m a\u001b[38;5;241m.\u001b[39mdtype \u001b[38;5;241m!=\u001b[39m np\u001b[38;5;241m.\u001b[39mobject_:\n\u001b[0;32m    341\u001b[0m     \u001b[38;5;66;03m# Fast, but not safe for subclasses of ndarray, or object arrays,\u001b[39;00m\n\u001b[0;32m    342\u001b[0m     \u001b[38;5;66;03m# which do not implement isnan (gh-9009), or fmin correctly (gh-8975)\u001b[39;00m\n\u001b[1;32m--> 343\u001b[0m     res \u001b[38;5;241m=\u001b[39m np\u001b[38;5;241m.\u001b[39mfmin\u001b[38;5;241m.\u001b[39mreduce(a, axis\u001b[38;5;241m=\u001b[39maxis, out\u001b[38;5;241m=\u001b[39mout, \u001b[38;5;241m*\u001b[39m\u001b[38;5;241m*\u001b[39mkwargs)\n\u001b[0;32m    344\u001b[0m     \u001b[38;5;28;01mif\u001b[39;00m np\u001b[38;5;241m.\u001b[39misnan(res)\u001b[38;5;241m.\u001b[39many():\n\u001b[0;32m    345\u001b[0m         warnings\u001b[38;5;241m.\u001b[39mwarn(\u001b[38;5;124m\"\u001b[39m\u001b[38;5;124mAll-NaN slice encountered\u001b[39m\u001b[38;5;124m\"\u001b[39m, \u001b[38;5;167;01mRuntimeWarning\u001b[39;00m,\n\u001b[0;32m    346\u001b[0m                       stacklevel\u001b[38;5;241m=\u001b[39m\u001b[38;5;241m3\u001b[39m)\n",
      "\u001b[1;31mValueError\u001b[0m: zero-size array to reduction operation fmin which has no identity"
     ]
    },
    {
     "data": {
      "text/plain": [
       "<Figure size 1000x1000 with 0 Axes>"
      ]
     },
     "metadata": {},
     "output_type": "display_data"
    }
   ],
   "source": [
    "pivot = important_rules.pivot(index='consequents', columns='antecedents', values='lift')\n",
    "plt.figure(figsize=(10,10))\n",
    "sns.heatmap(pivot, annot=True, cmap=\"YlGnBu\")\n",
    "plt.title('Heatmap of Important Association Rules')\n",
    "plt.show()"
   ]
  },
  {
   "cell_type": "code",
   "execution_count": null,
   "id": "7ae3a2d1",
   "metadata": {},
   "outputs": [],
   "source": []
  }
 ],
 "metadata": {
  "kernelspec": {
   "display_name": "Python 3 (ipykernel)",
   "language": "python",
   "name": "python3"
  },
  "language_info": {
   "codemirror_mode": {
    "name": "ipython",
    "version": 3
   },
   "file_extension": ".py",
   "mimetype": "text/x-python",
   "name": "python",
   "nbconvert_exporter": "python",
   "pygments_lexer": "ipython3",
   "version": "3.10.9"
  }
 },
 "nbformat": 4,
 "nbformat_minor": 5
}
