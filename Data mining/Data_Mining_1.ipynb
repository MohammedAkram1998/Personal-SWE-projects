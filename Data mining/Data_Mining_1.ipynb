{
 "cells": [
  {
   "cell_type": "code",
   "execution_count": 1,
   "id": "5bc9a93c",
   "metadata": {},
   "outputs": [],
   "source": [
    "import pandas as panda\n",
    "import numpy as nump\n"
   ]
  },
  {
   "cell_type": "code",
   "execution_count": 2,
   "id": "0c64a892",
   "metadata": {},
   "outputs": [],
   "source": [
    "file   = \"C:\\\\Users\\\\krmch\\\\OneDrive\\\\Desktop\\\\diabetes.csv\"\n"
   ]
  },
  {
   "cell_type": "markdown",
   "id": "282fba24",
   "metadata": {},
   "source": [
    "Question 1 Part 1 subquestion 1 "
   ]
  },
  {
   "cell_type": "code",
   "execution_count": 3,
   "id": "9ebf7774",
   "metadata": {},
   "outputs": [
    {
     "name": "stdout",
     "output_type": "stream",
     "text": [
      "   Pregnancies  Glucose  BloodPressure  SkinThickness  Insulin   BMI  \\\n",
      "0            6      148           72.0             35        0  33.6   \n",
      "1            1       85           66.0             29        0  26.6   \n",
      "2            8      183           64.0              0        0  23.3   \n",
      "3            1       89           66.0             23       94  28.1   \n",
      "4            0      137           40.0             35      168  43.1   \n",
      "\n",
      "   DiabetesPedigreeFunction  Age  Outcome  \n",
      "0                     0.627   50        1  \n",
      "1                     0.351   31        0  \n",
      "2                     0.672   32        1  \n",
      "3                     0.167   21        0  \n",
      "4                     2.288   15        1  \n"
     ]
    }
   ],
   "source": [
    "df = panda.read_csv(file)\n",
    "print(df.head())\n"
   ]
  },
  {
   "cell_type": "markdown",
   "id": "61d4b3e7",
   "metadata": {},
   "source": [
    "Question 1 Part 1 subquestion 2"
   ]
  },
  {
   "cell_type": "code",
   "execution_count": 4,
   "id": "1db1ed55",
   "metadata": {},
   "outputs": [
    {
     "name": "stdout",
     "output_type": "stream",
     "text": [
      "no of rows: 788\n",
      "no of cols : 9\n"
     ]
    }
   ],
   "source": [
    "rows, columns = df.shape\n",
    "print(f\"no of rows: {rows}\")\n",
    "print(f\"no of cols : {columns}\")\n"
   ]
  },
  {
   "cell_type": "markdown",
   "id": "54d57587",
   "metadata": {},
   "source": [
    "Question 1 Part 1 subquestion 3"
   ]
  },
  {
   "cell_type": "code",
   "execution_count": 5,
   "id": "055fb77e",
   "metadata": {},
   "outputs": [
    {
     "name": "stdout",
     "output_type": "stream",
     "text": [
      "mean age: 33.21573604060914\n",
      "Standard dev. of age: 11.819874550957666\n",
      "minimum age: 12\n",
      "maximum age: 81\n"
     ]
    }
   ],
   "source": [
    "\n",
    "mean_age = df['Age'].mean()\n",
    "standard_deviation_age = df['Age'].std()\n",
    "\n",
    "minimum_age = df['Age'].min()\n",
    "maximum_age = df['Age'].max()\n",
    "\n",
    "\n",
    "print(f\"mean age: {mean_age}\")\n",
    "print(f\"Standard dev. of age: {standard_deviation_age}\")\n",
    "print(f\"minimum age: {minimum_age}\")\n",
    "print(f\"maximum age: {maximum_age}\")\n",
    "\n"
   ]
  },
  {
   "cell_type": "markdown",
   "id": "7779eacd",
   "metadata": {},
   "source": [
    "Question 1 Part 1 subquestion 4"
   ]
  },
  {
   "cell_type": "code",
   "execution_count": 7,
   "id": "aacd83a7",
   "metadata": {},
   "outputs": [
    {
     "name": "stdout",
     "output_type": "stream",
     "text": [
      "mode of Age: 0    22\n",
      "Name: Age, dtype: int64\n",
      "data is unimodal.\n"
     ]
    }
   ],
   "source": [
    "mode_of_age = df['Age'].mode()\n",
    "print(f\"mode of Age: {mode_of_age}\")\n",
    "\n",
    "\n",
    "\n",
    "\n",
    "if len(mode_of_age) == 1:\n",
    "    print(\"data is unimodal.\")\n",
    "elif len(mode_of_age) == 2:\n",
    "    print(\"data is bimodal .\")\n",
    "else:\n",
    "    print(\"data is multimodal.\")\n"
   ]
  },
  {
   "cell_type": "markdown",
   "id": "cee4a7c7",
   "metadata": {},
   "source": [
    "Question 1 Part 1 subquestion 5"
   ]
  },
  {
   "cell_type": "code",
   "execution_count": 8,
   "id": "b4c60a37",
   "metadata": {},
   "outputs": [
    {
     "name": "stdout",
     "output_type": "stream",
     "text": [
      "Quartile 1 of Age: 24.0\n",
      "Quartile 3 of Age: 41.0\n"
     ]
    }
   ],
   "source": [
    "lower_quart_age =   df['Age'].quantile(0.25)\n",
    "upper_quart_age = df['Age'].quantile(0.75)\n",
    "\n",
    "print(f\"Quartile 1 of Age: {lower_quart_age}\")\n",
    "print(f\"Quartile 3 of Age: {upper_quart_age}\")\n"
   ]
  },
  {
   "cell_type": "markdown",
   "id": "ab4df4d9",
   "metadata": {},
   "source": [
    "Question 1 Part 1 subquestion 6"
   ]
  },
  {
   "cell_type": "code",
   "execution_count": 9,
   "id": "ea6328c2",
   "metadata": {},
   "outputs": [
    {
     "name": "stdout",
     "output_type": "stream",
     "text": [
      "interquartile range of Age: 17.0\n"
     ]
    }
   ],
   "source": [
    "IQR_of_age  = upper_quart_age -   lower_quart_age\n",
    "\n",
    "\n",
    "\n",
    "print(f\"interquartile range of Age: {IQR_of_age}\")\n"
   ]
  },
  {
   "cell_type": "markdown",
   "id": "d5eab99b",
   "metadata": {},
   "source": [
    "Question 1 Part 1 subquestion 7"
   ]
  },
  {
   "cell_type": "code",
   "execution_count": 11,
   "id": "ac1a1ea2",
   "metadata": {},
   "outputs": [
    {
     "name": "stdout",
     "output_type": "stream",
     "text": [
      "Max: 81\n",
      "Min: 24.0\n",
      "Quartile 1: 24.0\n",
      "Quartile 3: 41.0\n",
      "Median: 29.0\n"
     ]
    }
   ],
   "source": [
    "median_age = df['Age'].median()\n",
    "\n",
    "minimum_age = df['Age'].min()\n",
    "maximum_age = df['Age'].max()\n",
    "\n",
    "\n",
    "print(f\"Max: {maximum_age}\")\n",
    "print(f\"Min: {lower_quart_age}\")\n",
    "\n",
    "print(f\"Quartile 1: {lower_quart_age}\")\n",
    "print(f\"Quartile 3: {upper_quart_age}\")\n",
    "\n",
    "print(f\"Median: {median_age}\")\n",
    "\n"
   ]
  },
  {
   "cell_type": "markdown",
   "id": "3d158c80",
   "metadata": {},
   "source": [
    "Question 1 Part II"
   ]
  },
  {
   "cell_type": "code",
   "execution_count": 12,
   "id": "1c04c13f",
   "metadata": {},
   "outputs": [],
   "source": [
    "import matplotlib.pyplot as plt\n",
    "import seaborn as sea"
   ]
  },
  {
   "cell_type": "markdown",
   "id": "1c966fa3",
   "metadata": {},
   "source": [
    "Question 1 Part II subquestion 1"
   ]
  },
  {
   "cell_type": "code",
   "execution_count": 11,
   "id": "16914b50",
   "metadata": {},
   "outputs": [
    {
     "data": {
      "image/png": "[encoded data removed]",
      "text/plain": [
       "<Figure size 640x480 with 1 Axes>"
      ]
     },
     "metadata": {},
     "output_type": "display_data"
    }
   ],
   "source": [
    "sea.boxplot(y=df['Age'])\n",
    "\n",
    "\n",
    "# make title and axis label \n",
    "plt.title('Age boxplot')\n",
    "\n",
    "plt.ylabel(\"patient's age\")\n",
    "\n",
    "\n",
    "# show the box plot \n",
    "plt.show()\n"
   ]
  },
  {
   "cell_type": "markdown",
   "id": "5e0fc5aa",
   "metadata": {},
   "source": [
    "Question 1 Part II subquestion 2"
   ]
  },
  {
   "cell_type": "code",
   "execution_count": 13,
   "id": "1b2d5866",
   "metadata": {},
   "outputs": [
    {
     "data": {
      "image/png": "[encoded data removed]",
      "text/plain": [
       "<Figure size 640x480 with 1 Axes>"
      ]
     },
     "metadata": {},
     "output_type": "display_data"
    }
   ],
   "source": [
    "sea.boxplot(x=df['Outcome'],   y=df['Age'])\n",
    "\n",
    "# title and x label \n",
    "plt.title('Age boxplot for diabetic status')\n",
    "plt.xlabel('Diabetic')\n",
    "\n",
    "\n",
    "\n",
    "plt.xticks(ticks=[0, 1], labels=['no',  'yes'])\n",
    "\n",
    "# y label \n",
    "plt.ylabel(\"Patient's Age\")\n",
    "\n",
    "# show the boxplot \n",
    "plt.show()\n"
   ]
  },
  {
   "cell_type": "markdown",
   "id": "6b366c81",
   "metadata": {},
   "source": [
    "Question 1 Part II subquestion 3"
   ]
  },
  {
   "cell_type": "markdown",
   "id": "04aaa6dd",
   "metadata": {},
   "source": [
    "It is evident from the boxplot that there is a positive correlation between age and the presence of diabetes. This is because the distribution for age is skewed upwards for patients that are diabetic as compared to patients that are not and the median is higher. This correlation however is not conclusive evidence that age is causally related to diabetes. "
   ]
  },
  {
   "cell_type": "markdown",
   "id": "e86fb359",
   "metadata": {},
   "source": [
    "Question 1 Part II subquestion 4"
   ]
  },
  {
   "cell_type": "code",
   "execution_count": 14,
   "id": "6e65e743",
   "metadata": {},
   "outputs": [
    {
     "data": {
      "image/png": "[encoded data removed]",
      "text/plain": [
       "<Figure size 640x480 with 1 Axes>"
      ]
     },
     "metadata": {},
     "output_type": "display_data"
    }
   ],
   "source": [
    "sea.scatterplot(x=df['BloodPressure'],  y=df['BMI'])\n",
    "\n",
    "# make the title \n",
    "plt.title('Scatter plot of BP vs. BMI')\n",
    "\n",
    "# label the axes \n",
    "plt.xlabel('Blood pressure')\n",
    "plt.ylabel('BMI')\n",
    "\n",
    "\n",
    "# show the scatter plot \n",
    "plt.show()\n"
   ]
  },
  {
   "cell_type": "markdown",
   "id": "8e726c70",
   "metadata": {},
   "source": [
    "Question 1 Part II subquestion 5"
   ]
  },
  {
   "cell_type": "code",
   "execution_count": 15,
   "id": "a7d18261",
   "metadata": {},
   "outputs": [
    {
     "data": {
      "image/png": "[encoded data removed]",
      "text/plain": [
       "<Figure size 640x480 with 1 Axes>"
      ]
     },
     "metadata": {},
     "output_type": "display_data"
    }
   ],
   "source": [
    "sea.scatterplot(x=df['BloodPressure'], y=df['BMI'], hue=df['Outcome'], palette={0: 'red', 1: 'blue'},   legend='full')\n",
    "\n",
    "\n",
    "plt.title('Scatter plot of BP vs BMI by diabetic status of patient')\n",
    "\n",
    "\n",
    "\n",
    "# make the x and y labels \n",
    "plt.xlabel('Blood Pressure')\n",
    "plt.ylabel('BMI')\n",
    "\n",
    "\n",
    "\n",
    "legend_labels, _= plt.gca().get_legend_handles_labels()\n",
    "plt.legend(legend_labels, ['Diabetic: no', 'Diabetic: yes'])\n",
    "\n",
    "# show the scatter plot \n",
    "plt.show()\n"
   ]
  },
  {
   "cell_type": "markdown",
   "id": "87e13f55",
   "metadata": {},
   "source": [
    "Question 1 Part II subquestion 6"
   ]
  },
  {
   "cell_type": "markdown",
   "id": "f7e148a6",
   "metadata": {},
   "source": [
    "Judging from the scatter plot there is 1) a positive correlation between diabetes and and BMI as all blue dots are skewed upwards compared to red dots and a 2) weaker positive correlation between Blood pressure and diabetes. The blue dots have a subtle right skew and so there may be a weak positive correlation betweejn higher blood pressures and diabetes."
   ]
  },
  {
   "cell_type": "markdown",
   "id": "1a7f2749",
   "metadata": {},
   "source": [
    "Question 1 Part III"
   ]
  },
  {
   "cell_type": "markdown",
   "id": "c04d4a7b",
   "metadata": {},
   "source": [
    "Question 1 Part III subquestion 1 "
   ]
  },
  {
   "cell_type": "code",
   "execution_count": 16,
   "id": "c2662aeb",
   "metadata": {},
   "outputs": [],
   "source": [
    "\n",
    "patients_high_insulin =   df[df['Insulin'] > 400]\n",
    "\n",
    "\n",
    "number_high_insulin = patients_high_insulin['Outcome'].value_counts()"
   ]
  },
  {
   "cell_type": "code",
   "execution_count": 17,
   "id": "874781fb",
   "metadata": {},
   "outputs": [
    {
     "name": "stdout",
     "output_type": "stream",
     "text": [
      "0f patients with insulin > 400:\n",
      "diabetic:  12\n",
      "Non-diabetic: 8\n"
     ]
    }
   ],
   "source": [
    "print(\"0f patients with insulin > 400:\")\n",
    "\n",
    "\n",
    "print(f\"diabetic:  {number_high_insulin.get(1, 0)}\")\n",
    "print(f\"Non-diabetic: {number_high_insulin.get(0, 0)}\")\n"
   ]
  },
  {
   "cell_type": "markdown",
   "id": "0f60e939",
   "metadata": {},
   "source": [
    "Question 1 Part III subquestion 2"
   ]
  },
  {
   "cell_type": "code",
   "execution_count": 18,
   "id": "b6474245",
   "metadata": {},
   "outputs": [
    {
     "name": "stdout",
     "output_type": "stream",
     "text": [
      "Of patients with insulin > 400 and also glucose > 175:\n",
      "Diabetic: 5\n",
      "non-diabetic: 1\n"
     ]
    }
   ],
   "source": [
    "\n",
    "x_patients = df[(df['Insulin'] > 400) &  (df['Glucose'] > 175)]\n",
    "\n",
    "\n",
    "count_x = x_patients['Outcome'].value_counts()\n",
    "\n",
    "print(\"Of patients with insulin > 400 and also glucose > 175:\")\n",
    "\n",
    "\n",
    "print(f\"Diabetic: {count_x.get(1, 0)}\")\n",
    "print(f\"non-diabetic: {count_x.get(0, 0)}\")\n"
   ]
  },
  {
   "cell_type": "markdown",
   "id": "d4ae24ed",
   "metadata": {},
   "source": [
    "Question 1 Part III subquestion 3"
   ]
  },
  {
   "cell_type": "code",
   "execution_count": 19,
   "id": "228fe381",
   "metadata": {},
   "outputs": [
    {
     "name": "stdout",
     "output_type": "stream",
     "text": [
      "mean glucose level for patients over 45 with more than 5 pregnancies: 135.37\n"
     ]
    }
   ],
   "source": [
    "# Filter and calculate mean glucose level\n",
    "mean_glucose = df[(df['Pregnancies'] > 5) &  (df['Age'] > 45)]['Glucose'].mean()\n",
    "\n",
    "print(f\"mean glucose level for patients over 45 with more than 5 pregnancies: {mean_glucose:.2f}\")\n"
   ]
  },
  {
   "cell_type": "markdown",
   "id": "4473c57b",
   "metadata": {},
   "source": [
    "Question 1 Part III subquestion 4"
   ]
  },
  {
   "cell_type": "code",
   "execution_count": 20,
   "id": "21de68fb",
   "metadata": {},
   "outputs": [
    {
     "name": "stdout",
     "output_type": "stream",
     "text": [
      "unqiue values for pregnancy: 17\n"
     ]
    }
   ],
   "source": [
    "unique_pregnancies = df['Pregnancies'].nunique()\n",
    "\n",
    "print(f\"unqiue values for pregnancy: {unique_pregnancies}\")\n"
   ]
  },
  {
   "cell_type": "markdown",
   "id": "e42ebbdc",
   "metadata": {},
   "source": [
    "Question 1 Part III subquestion 5 "
   ]
  },
  {
   "cell_type": "code",
   "execution_count": 21,
   "id": "413f50c3",
   "metadata": {},
   "outputs": [
    {
     "name": "stdout",
     "output_type": "stream",
     "text": [
      "Percentage of each diabetic status for each number of pregnancies :\n",
      "Outcome             0         1\n",
      "Pregnancies                    \n",
      "0            0.660714  0.339286\n",
      "1            0.773050  0.226950\n",
      "2            0.824074  0.175926\n",
      "3            0.644737  0.355263\n",
      "4            0.666667  0.333333\n",
      "5            0.637931  0.362069\n",
      "6            0.680000  0.320000\n",
      "7            0.434783  0.565217\n",
      "8            0.450000  0.550000\n",
      "9            0.344828  0.655172\n",
      "10           0.583333  0.416667\n",
      "11           0.363636  0.636364\n",
      "12           0.555556  0.444444\n",
      "13           0.454545  0.545455\n",
      "14           0.000000  1.000000\n",
      "15           0.000000  1.000000\n",
      "17           0.000000  1.000000\n"
     ]
    }
   ],
   "source": [
    "preg_group = df.groupby('Pregnancies')['Outcome'].value_counts(normalize=True).unstack().fillna(0) \n",
    "\n",
    "print(\"Percentage of each diabetic status for each number of pregnancies :\")\n",
    "print(preg_group)\n"
   ]
  },
  {
   "cell_type": "markdown",
   "id": "d269a81b",
   "metadata": {},
   "source": [
    "Question 2 Part I subquestion 1 "
   ]
  },
  {
   "cell_type": "code",
   "execution_count": 22,
   "id": "f87e400e",
   "metadata": {},
   "outputs": [
    {
     "name": "stdout",
     "output_type": "stream",
     "text": [
      "0      False\n",
      "1      False\n",
      "2      False\n",
      "3      False\n",
      "4      False\n",
      "       ...  \n",
      "783     True\n",
      "784     True\n",
      "785     True\n",
      "786     True\n",
      "787     True\n",
      "Length: 788, dtype: bool\n"
     ]
    }
   ],
   "source": [
    "d = df.duplicated()\n",
    "\n",
    "\n",
    "print(d)\n"
   ]
  },
  {
   "cell_type": "markdown",
   "id": "de2be4ef",
   "metadata": {},
   "source": [
    "Question 2 Part I subquestion 2"
   ]
  },
  {
   "cell_type": "code",
   "execution_count": 23,
   "id": "f2f8b242",
   "metadata": {},
   "outputs": [],
   "source": [
    "df2 = df.drop_duplicates()\n"
   ]
  },
  {
   "cell_type": "markdown",
   "id": "05201bcc",
   "metadata": {},
   "source": [
    "Question 2 Part I subquestion 3"
   ]
  },
  {
   "cell_type": "code",
   "execution_count": 24,
   "id": "156e4a9d",
   "metadata": {},
   "outputs": [
    {
     "name": "stdout",
     "output_type": "stream",
     "text": [
      "Dimensions after duplicates removed (768, 9)\n"
     ]
    }
   ],
   "source": [
    "print(\"Dimensions after duplicates removed\", df2.shape)\n"
   ]
  },
  {
   "cell_type": "markdown",
   "id": "b6ebd8fb",
   "metadata": {},
   "source": [
    "Question 2 Part I subquestion 4"
   ]
  },
  {
   "cell_type": "code",
   "execution_count": 25,
   "id": "435048c9",
   "metadata": {},
   "outputs": [
    {
     "name": "stdout",
     "output_type": "stream",
     "text": [
      "There were 20 duplicate rows before cleaning .\n"
     ]
    }
   ],
   "source": [
    "duplicated_count = len(df) - len(df2)\n",
    "\n",
    "print(f\"There were {duplicated_count} duplicate rows before cleaning .\")\n"
   ]
  },
  {
   "cell_type": "markdown",
   "id": "0d689baa",
   "metadata": {},
   "source": [
    "question 2 part II subquestion 1 "
   ]
  },
  {
   "cell_type": "code",
   "execution_count": 27,
   "id": "44bc00f2",
   "metadata": {},
   "outputs": [
    {
     "name": "stdout",
     "output_type": "stream",
     "text": [
      "how many missing values in 'BloodPressure' column?: 23\n"
     ]
    }
   ],
   "source": [
    "miss_bp = df2['BloodPressure'].isnull().sum()\n",
    "print(f\"how many missing values in 'BloodPressure' column?: {miss_bp}\")\n"
   ]
  },
  {
   "cell_type": "markdown",
   "id": "8ecd6565",
   "metadata": {},
   "source": [
    "question 2 part II subquestion 2"
   ]
  },
  {
   "cell_type": "code",
   "execution_count": 28,
   "id": "561c6dde",
   "metadata": {},
   "outputs": [],
   "source": [
    "df3 = df2.dropna(subset=['BloodPressure'])\n"
   ]
  },
  {
   "cell_type": "markdown",
   "id": "5f2f6c88",
   "metadata": {},
   "source": [
    "question 2 part II subquestion 3"
   ]
  },
  {
   "cell_type": "code",
   "execution_count": 29,
   "id": "6bb5ce48",
   "metadata": {},
   "outputs": [],
   "source": [
    "cols = ['Pregnancies', 'BMI', 'DiabetesPedigreeFunction',  'BloodPressure', 'Glucose', 'SkinThickness', 'Insulin', 'Age']\n",
    "df4 = df3[cols].copy()\n"
   ]
  },
  {
   "cell_type": "markdown",
   "id": "e514c819",
   "metadata": {},
   "source": [
    "question 2 part II subquestion 4"
   ]
  },
  {
   "cell_type": "code",
   "execution_count": 31,
   "id": "6ab7e2d5",
   "metadata": {},
   "outputs": [],
   "source": [
    "from sklearn.model_selection import train_test_split\n",
    "\n",
    "training_df, testing_df = train_test_split(df4, test_size=0.1, random_state=42)\n"
   ]
  },
  {
   "cell_type": "markdown",
   "id": "96b677c1",
   "metadata": {},
   "source": [
    "question 2 part II subquestion 5"
   ]
  },
  {
   "cell_type": "code",
   "execution_count": 32,
   "id": "194f04a9",
   "metadata": {},
   "outputs": [],
   "source": [
    "evaluation_df = testing_df.copy()\n",
    "testing_df['Glucose'] = nump.nan\n"
   ]
  },
  {
   "cell_type": "markdown",
   "id": "95a33fdb",
   "metadata": {},
   "source": [
    "question 2 part II subquestion 6"
   ]
  },
  {
   "cell_type": "code",
   "execution_count": 33,
   "id": "4c1e684c",
   "metadata": {},
   "outputs": [
    {
     "name": "stdout",
     "output_type": "stream",
     "text": [
      "RMSE (mean): 34.09\n"
     ]
    }
   ],
   "source": [
    "from sklearn.metrics import mean_squared_error\n",
    "\n",
    "mean_glucose = training_df['Glucose'].mean()\n",
    "\n",
    "\n",
    "testing_df['Glucose_mean'] = mean_glucose\n",
    "\n",
    "\n",
    "rmse_mean = nump.sqrt(mean_squared_error(evaluation_df['Glucose'], testing_df['Glucose_mean']))\n",
    "print(f\"RMSE (mean): {rmse_mean:.2f}\")\n"
   ]
  },
  {
   "cell_type": "markdown",
   "id": "094de63d",
   "metadata": {},
   "source": [
    "question 2 part II subquestion 7"
   ]
  },
  {
   "cell_type": "code",
   "execution_count": 34,
   "id": "2c947fcd",
   "metadata": {},
   "outputs": [
    {
     "name": "stdout",
     "output_type": "stream",
     "text": [
      "RMSE (median) : 34.43\n"
     ]
    }
   ],
   "source": [
    "median_glucose = training_df['Glucose'].median()\n",
    "\n",
    "\n",
    "testing_df['Glucose_median'] = median_glucose\n",
    "\n",
    "\n",
    "rmse_median = nump.sqrt(mean_squared_error(evaluation_df['Glucose'], testing_df['Glucose_median']))\n",
    "print(f\"RMSE (median) : {rmse_median:.2f}\")\n"
   ]
  },
  {
   "cell_type": "markdown",
   "id": "0e1df154",
   "metadata": {},
   "source": [
    "question 2 part II subquestion 8"
   ]
  },
  {
   "cell_type": "code",
   "execution_count": 35,
   "id": "f25ec94b",
   "metadata": {},
   "outputs": [
    {
     "name": "stdout",
     "output_type": "stream",
     "text": [
      "RMSE (mode): 41.11\n"
     ]
    }
   ],
   "source": [
    "from sklearn.impute import SimpleImputer\n",
    "\n",
    "i = SimpleImputer(strategy='most_frequent')\n",
    "testing_df['Glucose_mode'] = i.fit(training_df[['Glucose']]).transform(testing_df[['Glucose']])\n",
    "\n",
    "\n",
    "rmse_mode = nump.sqrt(mean_squared_error(evaluation_df['Glucose'], testing_df['Glucose_mode']))\n",
    "print(f\"RMSE (mode): {rmse_mode:.2f}\")\n",
    "\n"
   ]
  },
  {
   "cell_type": "markdown",
   "id": "7c0bc6c2",
   "metadata": {},
   "source": [
    "question 2 part II subquestion 9"
   ]
  },
  {
   "cell_type": "code",
   "execution_count": 41,
   "id": "53e30031",
   "metadata": {},
   "outputs": [
    {
     "name": "stdout",
     "output_type": "stream",
     "text": [
      "RMSE (KNN): 95.01\n"
     ]
    },
    {
     "name": "stderr",
     "output_type": "stream",
     "text": [
      "C:\\Users\\krmch\\AppData\\Local\\Temp\\ipykernel_22868\\4246661979.py:4: FutureWarning: The frame.append method is deprecated and will be removed from pandas in a future version. Use pandas.concat instead.\n",
      "  testing_df_imputed = impu.fit_transform(training_df.append(testing_df.drop(columns=['Glucose_mean',   'Glucose_median',   'Glucose_mode'])))\n"
     ]
    }
   ],
   "source": [
    "from sklearn.impute import KNNImputer\n",
    "\n",
    "impu = KNNImputer(n_neighbors=3)\n",
    "testing_df_imputed = impu.fit_transform(training_df.append(testing_df.drop(columns=['Glucose_mean',   'Glucose_median',   'Glucose_mode'])))\n",
    "\n",
    "\n",
    "testing_df['Glucose_knn'] = testing_df_imputed[-len(testing_df):][:, 1] \n",
    "\n",
    "\n",
    "rmse2 = nump.sqrt(mean_squared_error(evaluation_df['Glucose'], testing_df['Glucose_knn']))\n",
    "\n",
    "\n",
    "print(f\"RMSE (KNN): {rmse2:.2f}\")\n"
   ]
  },
  {
   "cell_type": "markdown",
   "id": "5630af83",
   "metadata": {},
   "source": [
    "question 2 part II subquestion 10"
   ]
  },
  {
   "cell_type": "code",
   "execution_count": 39,
   "id": "778a9153",
   "metadata": {},
   "outputs": [
    {
     "name": "stdout",
     "output_type": "stream",
     "text": [
      "Best imputer because its RMSE is lowest: Mean Imputation\n"
     ]
    }
   ],
   "source": [
    "rmse_vals = {'Mean Imputation': rmse_mean,    'Median Imputation': rmse_median, 'Mode Imputation': rmse_mode, 'KNN Imputation': rmse_knn}\n",
    "best = min(rmse_vals, key=rmse_vals.get)\n",
    "\n",
    "print(f\"Best imputer because its RMSE is lowest: {best}\")\n"
   ]
  },
  {
   "cell_type": "code",
   "execution_count": null,
   "id": "a3893130",
   "metadata": {},
   "outputs": [],
   "source": [
    "#end"
   ]
  }
 ],
 "metadata": {
  "kernelspec": {
   "display_name": "Python 3 (ipykernel)",
   "language": "python",
   "name": "python3"
  },
  "language_info": {
   "codemirror_mode": {
    "name": "ipython",
    "version": 3
   },
   "file_extension": ".py",
   "mimetype": "text/x-python",
   "name": "python",
   "nbconvert_exporter": "python",
   "pygments_lexer": "ipython3",
   "version": "3.10.9"
  }
 },
 "nbformat": 4,
 "nbformat_minor": 5
}
