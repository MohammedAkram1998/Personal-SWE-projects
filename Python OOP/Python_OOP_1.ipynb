{
 "cells": [
  {
   "cell_type": "code",
   "execution_count": 50,
   "id": "55858569",
   "metadata": {},
   "outputs": [
    {
     "name": "stdout",
     "output_type": "stream",
     "text": [
      "x: 10, y: 15\n",
      "25\n",
      "the 10 distances are\n",
      "2\n",
      "4\n",
      "6\n",
      "8\n",
      "11\n",
      "15\n",
      "19\n",
      "23\n",
      "27\n",
      "32\n"
     ]
    }
   ],
   "source": [
    "# Question 1\n",
    "#creating the class location \n",
    "class Location():\n",
    "#defining the contructor \n",
    "      def __init__(self,x,y):\n",
    "        self.x = x \n",
    "        self.y = y \n",
    "     \n",
    "      def themanhattendistance(self, Location):\n",
    "        a = self.x - Location.x \n",
    "        b = self.y - Location.y \n",
    "        return (abs(a))+(abs(b))\n",
    "      def __str__(self):\n",
    "            return \"x: \" + str(self.x) + \", y: \" + str(self.y)\n",
    "loc = Location(10,15)\n",
    "ref = Location(0,0)\n",
    "print(loc)\n",
    "print(ref.themanhattendistance(loc))\n",
    "\n",
    "#list of all locations \n",
    "list = [(Location(1,1)),(Location(2,2)),(Location(3,3)),(Location(4,4)),(Location(5,6)),(Location(7,8)),\n",
    "       (Location(9,10)),(Location(11,12)),(Location(13,14)),(Location(16,16))]\n",
    "\n",
    "print(\"the 10 distances are\")\n",
    "for anylocation in list: \n",
    "    print( ref.themanhattendistance(anylocation))"
   ]
  },
  {
   "cell_type": "code",
   "execution_count": 118,
   "id": "4cf60b46",
   "metadata": {
    "scrolled": true
   },
   "outputs": [
    {
     "name": "stdout",
     "output_type": "stream",
     "text": [
      "Restaurant:rattatouille, in x: 5, y: 6, operating hours: 9-21\n",
      "False\n",
      "rattatouille1\n",
      "rattatouille2\n",
      "rattatouille3\n",
      "rattatouille4\n"
     ]
    }
   ],
   "source": [
    "# question 2\n",
    "\n",
    "\n",
    "class Location():\n",
    "#defining the contructor \n",
    "      def __init__(self,x,y):\n",
    "        self.x = x \n",
    "        self.y = y \n",
    "     \n",
    "      def themanhattendistance(self, Location):\n",
    "        a = self.x - Location.x \n",
    "        b = self.y - Location.y \n",
    "        return (abs(a))+(abs(b))\n",
    "      def __str__(self):\n",
    "            return \"x: \" + str(self.x) + \", y: \" + str(self.y)\n",
    "\n",
    "\n",
    "class Restaurant():\n",
    "    def __init__ (self,name,x,y,openingtime,closingtime):\n",
    "            self.name = name\n",
    "            self.x = x \n",
    "            self.y = y \n",
    "            self.Location = Location(x,y)\n",
    "            self.openingtime = openingtime \n",
    "            self.closingtime= closingtime\n",
    "    def get_name(self):\n",
    "        return self.name\n",
    "    def  get_operating_hours(self):\n",
    "        w = ()\n",
    "        w = w + (self.openingtime,self.closingtime)\n",
    "        \n",
    "        return w \n",
    "    def change_operating_hours(self,o,c):\n",
    "        self.openingtime = o \n",
    "        self.closingtime = c \n",
    "        \n",
    "    def getLocation(self):\n",
    "        return (self.Location)\n",
    "    \n",
    "    def  is_open(self,curr):\n",
    "        if self.openingtime<=curr<self.closingtime:\n",
    "            return True \n",
    "        else: \n",
    "             return False\n",
    "    def __str__(self):\n",
    "        return \"Restaurant:\" + str(self.name) +  \", in \"  + str(self.Location) + \", operating hours: \" + str(self.openingtime) + \"-\" + str(self.closingtime)\n",
    "    \n",
    "rat = Restaurant('rattatouille', 5, 6, 9, 21)\n",
    "print(rat)\n",
    "print (rat.is_open(8))\n",
    "\n",
    "list2 = [(Restaurant('rattatouille1', 1, 2, 3, 10)),(Restaurant('rattatouille2', 1, 3, 5, 10)),(Restaurant('rattatouille3', 1, 4, 7, 10)),(Restaurant('rattatouille4', 1, 5, 9, 10))]\n",
    "\n",
    "for i in list2:\n",
    "    if i.is_open(9):\n",
    "        x= i.get_name()\n",
    "        print(x)\n",
    "        \n",
    "\n",
    "\n",
    "            "
   ]
  },
  {
   "cell_type": "code",
   "execution_count": null,
   "id": "590f1ecb",
   "metadata": {},
   "outputs": [],
   "source": []
  },
  {
   "cell_type": "code",
   "execution_count": null,
   "id": "f35bbba5",
   "metadata": {},
   "outputs": [],
   "source": []
  }
 ],
 "metadata": {
  "kernelspec": {
   "display_name": "Python 3 (ipykernel)",
   "language": "python",
   "name": "python3"
  },
  "language_info": {
   "codemirror_mode": {
    "name": "ipython",
    "version": 3
   },
   "file_extension": ".py",
   "mimetype": "text/x-python",
   "name": "python",
   "nbconvert_exporter": "python",
   "pygments_lexer": "ipython3",
   "version": "3.9.13"
  }
 },
 "nbformat": 4,
 "nbformat_minor": 5
}
